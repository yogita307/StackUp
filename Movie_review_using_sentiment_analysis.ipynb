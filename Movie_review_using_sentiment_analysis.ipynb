{
  "nbformat": 4,
  "nbformat_minor": 0,
  "metadata": {
    "colab": {
      "provenance": [],
      "authorship_tag": "ABX9TyONo2g2QR58QEZyThCjz7j8",
      "include_colab_link": true
    },
    "kernelspec": {
      "name": "python3",
      "display_name": "Python 3"
    },
    "language_info": {
      "name": "python"
    }
  },
  "cells": [
    {
      "cell_type": "markdown",
      "metadata": {
        "id": "view-in-github",
        "colab_type": "text"
      },
      "source": [
        "<a href=\"https://colab.research.google.com/github/yogita307/StackUp/blob/main/Movie_review_using_sentiment_analysis.ipynb\" target=\"_parent\"><img src=\"https://colab.research.google.com/assets/colab-badge.svg\" alt=\"Open In Colab\"/></a>"
      ]
    },
    {
      "cell_type": "markdown",
      "source": [
        "\n",
        "# Introduction:\n",
        "Sentiment analysis, a crucial component of natural language processing, involves extracting insights and understanding sentiments expressed in textual data. In this sentiment analysis project, data was meticulously acquired from the movie_reviews dataset within the Natural Language Toolkit (NLTK) library. This dataset, comprising both positive and negative movie reviews, provided a diverse and rich source for training and evaluating sentiment analysis models.\n",
        "\n",
        "# Data Acquisition:\n",
        "The initial step in this endeavor was the acquisition of data from the NLTK library's movie_reviews dataset. This curated collection encompasses a spectrum of sentiments, crucial for training a model capable of discerning between positive and negative reviews. To ensure the robustness of the model, the reviews were intentionally randomized, guaranteeing a balanced distribution for subsequent training and testing phases.\n",
        "\n",
        "# Data Processing and Cleaning:\n",
        "The preprocessing phase played a pivotal role in preparing the data for analysis. Tokenization, a fundamental technique, was employed to break down each review into a list of individual words. Feature extraction, a critical step in model building, utilized word frequency distribution. This involved selecting the most prevalent words as features, enabling the sentiment analysis model to capture the essence of the reviews.\n",
        "\n"
      ],
      "metadata": {
        "id": "BkgiRFJ9vxWa"
      }
    },
    {
      "cell_type": "code",
      "source": [
        "import nltk\n",
        "from nltk.corpus import movie_reviews\n",
        "import random\n",
        "\n",
        "nltk.download('movie_reviews')\n",
        "\n",
        "# Get movie reviews dataset from NLTK\n",
        "documents = [(list(movie_reviews.words(fileid)), category) for category in movie_reviews.categories() for fileid in movie_reviews.fileids(category)]\n",
        "random.shuffle(documents)\n"
      ],
      "metadata": {
        "colab": {
          "base_uri": "https://localhost:8080/"
        },
        "id": "1kKmB4bsuJ_A",
        "outputId": "71dfd2de-fae7-454a-9083-721fcf7d3d34"
      },
      "execution_count": 7,
      "outputs": [
        {
          "output_type": "stream",
          "name": "stderr",
          "text": [
            "[nltk_data] Downloading package movie_reviews to /root/nltk_data...\n",
            "[nltk_data]   Package movie_reviews is already up-to-date!\n"
          ]
        }
      ]
    },
    {
      "cell_type": "markdown",
      "source": [
        "# Sentiment Analysis Implementation:\n",
        "The core of the project revolved around the application of the NLTK library's Naive Bayes classifier for sentiment analysis. This machine learning algorithm was chosen for its simplicity and effectiveness in classifying textual data. The model underwent a rigorous training process on a carefully chosen subset of the dataset and was subsequently evaluated on the remaining portion. The accuracy function served as a metric to quantify the model's performance, providing valuable insights into its ability to classify sentiments accurately."
      ],
      "metadata": {
        "id": "9VHaEa--v9eN"
      }
    },
    {
      "cell_type": "code",
      "source": [
        "from nltk.probability import FreqDist\n",
        "from nltk.classify import apply_features\n",
        "\n",
        "# Function to extract features and labels for a given dataset\n",
        "def extract_features(document):\n",
        "    words = set(document)\n",
        "    features = {}\n",
        "    for word in word_features:\n",
        "        features[word] = (word in words)\n",
        "    return features\n",
        "\n",
        "# Get the word features\n",
        "all_words = nltk.FreqDist(w.lower() for w in movie_reviews.words())\n",
        "word_features = list(all_words.keys())[:2000]\n",
        "\n",
        "# Apply the extract_features function to the test set\n",
        "test_set_features = apply_features(extract_features, [(doc, label) for (doc, label) in test_set])\n"
      ],
      "metadata": {
        "id": "HKQ0oXiXuLkb"
      },
      "execution_count": 8,
      "outputs": []
    },
    {
      "cell_type": "code",
      "source": [
        "from nltk.classify import accuracy\n",
        "\n",
        "# Train the Naive Bayes classifier\n",
        "classifier = NaiveBayesClassifier.train(train_set)\n",
        "\n",
        "# Evaluate accuracy on the test set\n",
        "print(\"Accuracy:\", accuracy(classifier, test_set))\n"
      ],
      "metadata": {
        "colab": {
          "base_uri": "https://localhost:8080/"
        },
        "id": "plgdNM8uuP1i",
        "outputId": "e6875e18-f11b-438c-8cb2-6abffe39321c"
      },
      "execution_count": 9,
      "outputs": [
        {
          "output_type": "stream",
          "name": "stdout",
          "text": [
            "Accuracy: 0.754\n"
          ]
        }
      ]
    },
    {
      "cell_type": "markdown",
      "source": [
        "# Results Visualization:\n",
        "To enhance the interpretability of the model's outcomes, a confusion matrix was employed for results visualization. This matrix delineated true positives, true negatives, false positives, and false negatives, offering a comprehensive understanding of the model's strengths and areas for improvement. Additionally, the overall accuracy of the model was calculated and presented, providing a quantitative measure of its performance on the sentiment analysis task."
      ],
      "metadata": {
        "id": "oVwEfBjcwFCw"
      }
    },
    {
      "cell_type": "code",
      "source": [
        "# Create a confusion matrix\n",
        "cm = confusion_matrix([label for (features, label) in test_set_features], predictions)\n",
        "\n",
        "# Plot the confusion matrix\n",
        "plt.figure(figsize=(8, 6))\n",
        "sns.heatmap(cm, annot=True, fmt=\"d\", cmap=\"Blues\", xticklabels=['neg', 'pos'], yticklabels=['neg', 'pos'])\n",
        "plt.title(\"Confusion Matrix\")\n",
        "plt.xlabel(\"Predicted\")\n",
        "plt.ylabel(\"True\")\n",
        "plt.show()\n",
        "\n",
        "# Calculate accuracy\n",
        "accuracy = accuracy_score([label for (features, label) in test_set_features], predictions)\n",
        "print(f\"Accuracy: {accuracy:.2%}\")\n"
      ],
      "metadata": {
        "colab": {
          "base_uri": "https://localhost:8080/",
          "height": 581
        },
        "id": "oNCZuv9KuS6C",
        "outputId": "fac14d12-6099-4136-c8ec-c62313309b85"
      },
      "execution_count": 10,
      "outputs": [
        {
          "output_type": "display_data",
          "data": {
            "text/plain": [
              "<Figure size 800x600 with 2 Axes>"
            ],
            "image/png": "[encoded data removed]"
          },
          "metadata": {}
        },
        {
          "output_type": "stream",
          "name": "stdout",
          "text": [
            "Accuracy: 52.00%\n"
          ]
        }
      ]
    },
    {
      "cell_type": "code",
      "source": [],
      "metadata": {
        "id": "DMAP17z6vkTf"
      },
      "execution_count": null,
      "outputs": []
    },
    {
      "cell_type": "markdown",
      "source": [
        "Let's delve into the key aspects of the code:\n",
        "\n",
        "# Tokenization\n",
        "from nltk.tokenize import word_tokenize\n",
        "tokenized_review = word_tokenize(review_text)\n",
        "This segment employs tokenization, a fundamental NLP technique, using the NLTK library. word_tokenize breaks down a review text into a list of individual words, facilitating subsequent analysis.\n",
        "\n",
        "# Feature extraction using word frequency distribution\n",
        "from nltk.probability import FreqDist\n",
        "all_words = nltk.FreqDist(w.lower() for w in movie_reviews.words())\n",
        "word_features = list(all_words.keys())[:2000]\n",
        "Here, the code extracts features for sentiment analysis by creating a frequency distribution of words in the entire movie_reviews dataset. The most common 2000 words are selected as features, forming the basis for the sentiment analysis model.\n",
        "\n",
        "# Sentiment analysis using Naive Bayes classifier\n",
        "from nltk.classify import NaiveBayesClassifier\n",
        "classifier = NaiveBayesClassifier.train(train_set)\n",
        "\n",
        "# Evaluate accuracy on the test set\n",
        "from nltk.classify import accuracy\n",
        "print(\"Accuracy:\", accuracy(classifier, test_set))\n",
        "The code employs the Naive Bayes classifier from NLTK to perform sentiment analysis. The model is trained on a subset of the dataset (train_set) and then evaluated on the remaining portion (test_set). The accuracy of the model is printed, indicating its effectiveness in classifying sentiments.\n",
        "\n",
        "# Results visualization using confusion matrix\n",
        "from sklearn.metrics import confusion_matrix\n",
        "cm = confusion_matrix([label for (features, label) in test_set_features], predictions)\n",
        "In this section, a confusion matrix is utilized for visualizing the results. The confusion_matrix function from the sklearn.metrics module generates a matrix that shows true positives, true negatives, false positives, and false negatives, providing a detailed overview of the model's classification performance.\n",
        "\n"
      ],
      "metadata": {
        "id": "YbxYiz2IwU17"
      }
    },
    {
      "cell_type": "markdown",
      "source": [
        "# Conclusion:\n",
        "In conclusion, this streamlined methodology encompassed the entire lifecycle of sentiment analysis, from data acquisition to model evaluation. Leveraging the NLTK library's robust tools and techniques, the project not only facilitated the construction of an effective sentiment analysis model but also contributed to a deeper understanding of sentiment in textual data. As the field of natural language processing continues to evolve, projects like these play a crucial role in advancing our ability to analyze and interpret sentiments expressed in diverse textual content."
      ],
      "metadata": {
        "id": "Buj5Gf_KwsMw"
      }
    },
    {
      "cell_type": "markdown",
      "source": [],
      "metadata": {
        "id": "yCQVuNmwwh_t"
      }
    }
  ]
}